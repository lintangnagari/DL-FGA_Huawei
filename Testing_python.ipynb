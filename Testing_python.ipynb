{
 "cells": [
  {
   "cell_type": "code",
   "execution_count": 1,
   "metadata": {},
   "outputs": [
    {
     "ename": "TypeError",
     "evalue": "'str' object does not support item assignment",
     "output_type": "error",
     "traceback": [
      "\u001b[1;31m---------------------------------------------------------------------------\u001b[0m",
      "\u001b[1;31mTypeError\u001b[0m                                 Traceback (most recent call last)",
      "Cell \u001b[1;32mIn[1], line 2\u001b[0m\n\u001b[0;32m      1\u001b[0m S \u001b[39m=\u001b[39m \u001b[39m'\u001b[39m\u001b[39mpython\u001b[39m\u001b[39m'\u001b[39m \u001b[39m# Assign value \"python\" to variable S.\u001b[39;00m\n\u001b[1;32m----> 2\u001b[0m S[\u001b[39m0\u001b[39;49m] \u001b[39m=\u001b[39m \u001b[39m'\u001b[39m\u001b[39mZ\u001b[39m\u001b[39m'\u001b[39m \u001b[39m# The program is abnormal.\u001b[39;00m\n\u001b[0;32m      3\u001b[0m S1 \u001b[39m=\u001b[39m\u001b[39m'\u001b[39m\u001b[39mZ\u001b[39m\u001b[39m'\u001b[39m\u001b[39m+\u001b[39mS[\u001b[39m1\u001b[39m:] \u001b[39m# New string Zython is generated and assigned to S1.\u001b[39;00m\n\u001b[0;32m      4\u001b[0m \u001b[39mprint\u001b[39m(\u001b[39m\"\u001b[39m\u001b[39mS:\u001b[39m\u001b[39m%s\u001b[39;00m\u001b[39m, S1:\u001b[39m\u001b[39m%s\u001b[39;00m\u001b[39m\"\u001b[39m\u001b[39m%\u001b[39m(S, S1))\u001b[39m# Output: S:python, S1:Zython\u001b[39;00m\n",
      "\u001b[1;31mTypeError\u001b[0m: 'str' object does not support item assignment"
     ]
    }
   ],
   "source": [
    "S = 'python' # Assign value \"python\" to variable S.\n",
    "S[0] = 'Z' # The program is abnormal.\n",
    "S1 ='Z'+S[1:] # New string Zython is generated and assigned to S1.\n",
    "print(\"S:%s, S1:%s\"%(S, S1))# Output: S:python, S1:Zython"
   ]
  },
  {
   "cell_type": "code",
   "execution_count": 2,
   "metadata": {},
   "outputs": [
    {
     "name": "stdout",
     "output_type": "stream",
     "text": [
      "Dict1:{'name': 'lee', 'age': 89, 'num': [1, 6, 8]}\n",
      "  Dict_copy:{'name': 'lee', 'age': 89, 'num': [1, 6, 8]}\n",
      "  Dict_dcopy:{'name': 'lee', 'age': 89, 'num': [1, 2, 8]}\n"
     ]
    }
   ],
   "source": [
    "import copy\n",
    "Dict1 = {'name':'lee', 'age':89, 'num':[1,2,8]} # Create a dictionary.\n",
    "Dict_copy = Dict1.copy() # Shallow copy.\n",
    "Dict_dcopy = copy.deepcopy(Dict1) # Deep copy.\n",
    "Dict1['num'][1] = 6 # Change the value of the nested list in the original data.\n",
    "print('Dict1:'+str(Dict1)+\"\\n\",' Dict_copy:'+ str(Dict_copy)+\"\\n\",' Dict_dcopy:'+ str(Dict_dcopy))"
   ]
  },
  {
   "cell_type": "code",
   "execution_count": null,
   "metadata": {},
   "outputs": [],
   "source": []
  }
 ],
 "metadata": {
  "kernelspec": {
   "display_name": "base",
   "language": "python",
   "name": "python3"
  },
  "language_info": {
   "codemirror_mode": {
    "name": "ipython",
    "version": 3
   },
   "file_extension": ".py",
   "mimetype": "text/x-python",
   "name": "python",
   "nbconvert_exporter": "python",
   "pygments_lexer": "ipython3",
   "version": "3.9.17"
  },
  "orig_nbformat": 4
 },
 "nbformat": 4,
 "nbformat_minor": 2
}
