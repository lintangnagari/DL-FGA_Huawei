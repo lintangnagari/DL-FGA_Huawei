{
 "cells": [
  {
   "cell_type": "markdown",
   "metadata": {},
   "source": [
    "# **3.3.1.2.2 DATASET READING**"
   ]
  },
  {
   "cell_type": "code",
   "execution_count": 1,
   "metadata": {},
   "outputs": [
    {
     "name": "stdout",
     "output_type": "stream",
     "text": [
      "5\n",
      "(60000, 28, 28) (60000,)\n",
      "(10000, 28, 28) (10000,)\n",
      "[0. 0. 0. 0. 0. 1. 0. 0. 0. 0.]\n"
     ]
    }
   ],
   "source": [
    "import os\n",
    "import tensorflow as tf\n",
    "from tensorflow import keras\n",
    "from tensorflow.keras import layers, optimizers, datasets\n",
    "from matplotlib import pyplot as plt\n",
    "import numpy as np\n",
    "\n",
    "(x_train_raw, y_train_raw), (x_test_raw, y_test_raw) = datasets.mnist.load_data()\n",
    "print(y_train_raw[0])\n",
    "print(x_train_raw.shape, y_train_raw.shape)\n",
    "print(x_test_raw.shape, y_test_raw.shape)\n",
    "\n",
    "#Convert the labels into one-hot codes \n",
    "num_classes = 10\n",
    "y_train = keras.utils.to_categorical(y_train_raw, num_classes)\n",
    "y_test = keras.utils.to_categorical(y_test_raw, num_classes)\n",
    "print(y_train[0])"
   ]
  },
  {
   "cell_type": "code",
   "execution_count": 2,
   "metadata": {},
   "outputs": [
    {
     "data": {
      "image/png": "[encoded data removed]",
      "text/plain": [
       "<Figure size 640x480 with 9 Axes>"
      ]
     },
     "metadata": {},
     "output_type": "display_data"
    }
   ],
   "source": [
    "plt.figure()\n",
    "for i in range(9):\n",
    "   plt.subplot(3,3,i+1)\n",
    "   plt.imshow(x_train_raw[i])\n",
    "#plt.ylabel(y[i].numpy())\n",
    "   plt.axis('off')\n",
    "\n",
    "plt.show()"
   ]
  },
  {
   "cell_type": "code",
   "execution_count": 3,
   "metadata": {},
   "outputs": [],
   "source": [
    "#Convert a 28 x 28 image into a 784 x 1 vector.\n",
    "x_train = x_train_raw.reshape(60000, 784)\n",
    "x_test = x_test_raw.reshape(10000, 784)"
   ]
  },
  {
   "cell_type": "code",
   "execution_count": 4,
   "metadata": {},
   "outputs": [],
   "source": [
    "#Normalize image pixel values.\n",
    "x_train = x_train.astype('float32')/255\n",
    "x_test = x_test.astype('float32')/255"
   ]
  },
  {
   "cell_type": "code",
   "execution_count": 5,
   "metadata": {},
   "outputs": [
    {
     "name": "stdout",
     "output_type": "stream",
     "text": [
      "Model: \"sequential\"\n",
      "_________________________________________________________________\n",
      " Layer (type)                Output Shape              Param #   \n",
      "=================================================================\n",
      " dense (Dense)               (None, 512)               401920    \n",
      "                                                                 \n",
      " dense_1 (Dense)             (None, 256)               131328    \n",
      "                                                                 \n",
      " dense_2 (Dense)             (None, 124)               31868     \n",
      "                                                                 \n",
      " dense_3 (Dense)             (None, 10)                1250      \n",
      "                                                                 \n",
      "=================================================================\n",
      "Total params: 566,366\n",
      "Trainable params: 566,366\n",
      "Non-trainable params: 0\n",
      "_________________________________________________________________\n"
     ]
    }
   ],
   "source": [
    "#Create a deep neural network (DNN) model that consists of three fully connected layers and two RELU activation functions.\n",
    "model = keras.Sequential([\n",
    "   layers.Dense(512, activation='relu', input_dim = 784),\n",
    "   layers.Dense(256, activation='relu'),\n",
    "   layers.Dense(124, activation='relu'),\n",
    "layers.Dense(num_classes, activation='softmax')])\n",
    "\n",
    "model.summary()"
   ]
  },
  {
   "cell_type": "code",
   "execution_count": 6,
   "metadata": {},
   "outputs": [],
   "source": [
    "Optimizer = optimizers.Adam(0.001)\n",
    "model.compile(loss=keras.losses.categorical_crossentropy,\n",
    "              optimizer=Optimizer,\n",
    "              metrics=['accuracy'])"
   ]
  },
  {
   "cell_type": "code",
   "execution_count": 7,
   "metadata": {},
   "outputs": [
    {
     "name": "stdout",
     "output_type": "stream",
     "text": [
      "Epoch 1/10\n",
      "469/469 [==============================] - 5s 7ms/step - loss: 0.2228 - accuracy: 0.9343\n",
      "Epoch 2/10\n",
      "469/469 [==============================] - 9s 18ms/step - loss: 0.0833 - accuracy: 0.9741\n",
      "Epoch 3/10\n",
      "469/469 [==============================] - 7s 15ms/step - loss: 0.0559 - accuracy: 0.9825\n",
      "Epoch 4/10\n",
      "469/469 [==============================] - 6s 14ms/step - loss: 0.0401 - accuracy: 0.9867\n",
      "Epoch 5/10\n",
      "469/469 [==============================] - 12s 25ms/step - loss: 0.0305 - accuracy: 0.9902\n",
      "Epoch 6/10\n",
      "469/469 [==============================] - 12s 26ms/step - loss: 0.0270 - accuracy: 0.9910\n",
      "Epoch 7/10\n",
      "469/469 [==============================] - 12s 26ms/step - loss: 0.0216 - accuracy: 0.9926\n",
      "Epoch 8/10\n",
      "469/469 [==============================] - 12s 26ms/step - loss: 0.0194 - accuracy: 0.9936\n",
      "Epoch 9/10\n",
      "469/469 [==============================] - 12s 25ms/step - loss: 0.0190 - accuracy: 0.9937\n",
      "Epoch 10/10\n",
      "469/469 [==============================] - 14s 29ms/step - loss: 0.0157 - accuracy: 0.9945\n"
     ]
    },
    {
     "data": {
      "text/plain": [
       "<keras.callbacks.History at 0x2c68a726fa0>"
      ]
     },
     "execution_count": 7,
     "metadata": {},
     "output_type": "execute_result"
    }
   ],
   "source": [
    "#Fit the training data to the model by using the fit method.\n",
    "model.fit(x_train, y_train,\n",
    "          batch_size=128,\n",
    "          epochs=10,\n",
    "          verbose=1)"
   ]
  },
  {
   "cell_type": "code",
   "execution_count": 8,
   "metadata": {},
   "outputs": [
    {
     "name": "stdout",
     "output_type": "stream",
     "text": [
      "Test loss: 0.07099048048257828\n",
      "Test accuracy: 0.9829999804496765\n"
     ]
    }
   ],
   "source": [
    "score = model.evaluate(x_test, y_test, verbose=0)\n",
    "print('Test loss:', score[0])\n",
    "print('Test accuracy:', score[1])"
   ]
  },
  {
   "cell_type": "code",
   "execution_count": 9,
   "metadata": {},
   "outputs": [],
   "source": [
    "model.save('./model/final_DNN_model.h5')"
   ]
  },
  {
   "cell_type": "code",
   "execution_count": 10,
   "metadata": {},
   "outputs": [],
   "source": [
    "import tensorflow as tf\n",
    "from tensorflow import keras\n",
    "import numpy as np\n",
    "model=keras.Sequential() #Create a network sequence.\n",
    "\n",
    "##Add the first convolutional layer and pooling layer.\n",
    "model.add(keras.layers.Conv2D(filters=32,kernel_size = 5,strides = (1,1),\n",
    "padding = 'same',activation = tf.nn.relu,input_shape = (28,28,1)))\n",
    "model.add(keras.layers.MaxPool2D(pool_size=(2,2), strides = (2,2), padding = 'valid'))\n",
    "\n",
    "##Add the second convolutional layer and pooling layer.\n",
    "model.add(keras.layers.Conv2D(filters=64,kernel_size = 3,strides = (1,1),padding = 'same',activation =\n",
    "tf.nn.relu))\n",
    "model.add(keras.layers.MaxPool2D(pool_size=(2,2), strides = (2,2), padding = 'valid'))\n",
    "\n",
    "##Add a dropout layer to reduce overfitting.\n",
    "model.add(keras.layers.Dropout(0.25))\n",
    "model.add(keras.layers.Flatten())\n",
    "\n",
    "##Add two fully connected layers.\n",
    "model.add(keras.layers.Dense(units=128,activation = tf.nn.relu))\n",
    "model.add(keras.layers.Dropout(0.5))\n",
    "model.add(keras.layers.Dense(units=10,activation = tf.nn.softmax))"
   ]
  },
  {
   "cell_type": "code",
   "execution_count": 11,
   "metadata": {},
   "outputs": [
    {
     "name": "stdout",
     "output_type": "stream",
     "text": [
      "Epoch 1/5\n",
      "469/469 [==============================] - 39s 60ms/step - loss: 0.2865 - accuracy: 0.9098\n",
      "Epoch 2/5\n",
      "469/469 [==============================] - 26s 55ms/step - loss: 0.0902 - accuracy: 0.9730\n",
      "Epoch 3/5\n",
      "469/469 [==============================] - 28s 61ms/step - loss: 0.0691 - accuracy: 0.9794\n",
      "Epoch 4/5\n",
      "469/469 [==============================] - 26s 55ms/step - loss: 0.0560 - accuracy: 0.9830\n",
      "Epoch 5/5\n",
      "469/469 [==============================] - 26s 56ms/step - loss: 0.0482 - accuracy: 0.9856\n"
     ]
    },
    {
     "data": {
      "text/plain": [
       "<keras.callbacks.History at 0x2c6955f88b0>"
      ]
     },
     "execution_count": 11,
     "metadata": {},
     "output_type": "execute_result"
    }
   ],
   "source": [
    "#Expand data dimensions to adapt to the CNN model.\n",
    "X_train=x_train.reshape(60000,28,28,1)\n",
    "X_test=x_test.reshape(10000,28,28,1)\n",
    "model.compile(optimizer=\"adam\",loss=\"categorical_crossentropy\",metrics=['accuracy'])\n",
    "model.fit(x=X_train,y=y_train,epochs=5,batch_size=128)"
   ]
  },
  {
   "cell_type": "code",
   "execution_count": 12,
   "metadata": {},
   "outputs": [
    {
     "name": "stdout",
     "output_type": "stream",
     "text": [
      "313/313 [==============================] - 11s 29ms/step - loss: 0.0259 - accuracy: 0.9911\n",
      "Test Accuracy 0.99\n"
     ]
    }
   ],
   "source": [
    "test_loss,test_acc=model.evaluate(x=X_test,y=y_test)\n",
    "print(\"Test Accuracy %.2f\"%test_acc)"
   ]
  },
  {
   "cell_type": "code",
   "execution_count": 13,
   "metadata": {},
   "outputs": [],
   "source": [
    "model.save('./model/final_CNN_model.h5')"
   ]
  },
  {
   "cell_type": "code",
   "execution_count": 14,
   "metadata": {},
   "outputs": [
    {
     "name": "stdout",
     "output_type": "stream",
     "text": [
      "Model: \"sequential_1\"\n",
      "_________________________________________________________________\n",
      " Layer (type)                Output Shape              Param #   \n",
      "=================================================================\n",
      " conv2d (Conv2D)             (None, 28, 28, 32)        832       \n",
      "                                                                 \n",
      " max_pooling2d (MaxPooling2D  (None, 14, 14, 32)       0         \n",
      " )                                                               \n",
      "                                                                 \n",
      " conv2d_1 (Conv2D)           (None, 14, 14, 64)        18496     \n",
      "                                                                 \n",
      " max_pooling2d_1 (MaxPooling  (None, 7, 7, 64)         0         \n",
      " 2D)                                                             \n",
      "                                                                 \n",
      " dropout (Dropout)           (None, 7, 7, 64)          0         \n",
      "                                                                 \n",
      " flatten (Flatten)           (None, 3136)              0         \n",
      "                                                                 \n",
      " dense_4 (Dense)             (None, 128)               401536    \n",
      "                                                                 \n",
      " dropout_1 (Dropout)         (None, 128)               0         \n",
      "                                                                 \n",
      " dense_5 (Dense)             (None, 10)                1290      \n",
      "                                                                 \n",
      "=================================================================\n",
      "Total params: 422,154\n",
      "Trainable params: 422,154\n",
      "Non-trainable params: 0\n",
      "_________________________________________________________________\n"
     ]
    }
   ],
   "source": [
    "from tensorflow.keras.models import load_model\n",
    "new_model = load_model('./model/final_CNN_model.h5')\n",
    "new_model.summary()"
   ]
  },
  {
   "cell_type": "code",
   "execution_count": 15,
   "metadata": {},
   "outputs": [
    {
     "name": "stdout",
     "output_type": "stream",
     "text": [
      "1/1 [==============================] - 1s 623ms/step\n",
      "prediction results of the first 20 images:\n",
      "[2.0678359e-12 2.1681199e-08 4.4811094e-10 1.2237774e-07 8.9524742e-12\n",
      " 6.0245503e-11 3.9641078e-15 9.9999964e-01 7.1504018e-11 1.9025643e-07],[2.7710010e-07 3.1147583e-06 9.9999666e-01 3.7175954e-10 5.5162774e-11\n",
      " 2.1946284e-12 5.4958149e-09 4.1441996e-11 1.3644939e-08 1.3931560e-12],[2.5776975e-08 9.9999547e-01 1.9175561e-08 5.2979184e-11 1.1659063e-06\n",
      " 7.0783429e-08 1.9776846e-06 2.1526624e-08 1.2806124e-06 2.3400326e-09],[9.9999464e-01 2.2945734e-09 5.2247038e-09 7.3732916e-11 4.0707401e-10\n",
      " 1.7184806e-09 5.2445707e-06 5.2152085e-08 4.1715737e-08 1.1093896e-07],[6.1573180e-10 5.9983161e-09 9.8366031e-11 1.1853207e-12 9.9999464e-01\n",
      " 1.4127258e-10 4.8042548e-08 1.4175743e-09 1.4101637e-09 5.3483677e-06],\t\n",
      "[4.03369471e-09 9.99999642e-01 1.49725854e-09 6.86249993e-13\n",
      " 1.64762398e-07 5.95397953e-10 3.28868630e-08 1.20328583e-08\n",
      " 1.09466484e-07 2.43881970e-10],[4.91671370e-09 6.80859102e-06 3.07967762e-09 1.38720715e-08\n",
      " 9.98470724e-01 1.02286685e-05 9.56590793e-06 4.65690482e-06\n",
      " 9.89901484e-04 5.08170924e-04],[3.4276231e-09 6.6649610e-09 2.3630962e-08 2.5351608e-07 3.3509813e-03\n",
      " 3.7166194e-06 6.5123809e-09 1.6984421e-08 1.6309328e-05 9.9662870e-01],[4.2921169e-08 7.9719982e-13 3.0789490e-12 2.4623998e-09 2.7400471e-08\n",
      " 9.9970895e-01 2.5259837e-04 3.3752621e-12 3.7620128e-05 7.4431534e-07],[2.5221786e-10 1.3050344e-10 1.8922039e-11 1.0792766e-08 1.6806144e-04\n",
      " 1.0842118e-08 1.1685296e-10 6.2948693e-06 7.6293918e-06 9.9981803e-01],\t\n",
      "[1.0000000e+00 9.3544970e-11 3.3531466e-09 3.1645923e-13 1.5099549e-13\n",
      " 1.1158675e-12 2.8367159e-10 2.9335383e-09 1.5874376e-09 1.9819124e-09],[5.8608515e-07 9.1897486e-13 2.8148612e-12 5.6894962e-12 7.3927816e-13\n",
      " 2.1891790e-08 9.9999940e-01 5.2149362e-15 2.8785655e-08 1.1729070e-13],[1.6487301e-11 1.5958231e-11 7.1792154e-13 3.2587815e-09 6.4398533e-05\n",
      " 8.3470084e-09 4.3524170e-11 4.9056007e-07 4.6093746e-07 9.9993467e-01],[1.0000000e+00 2.0721938e-10 1.8578851e-10 3.9006016e-13 2.1572674e-12\n",
      " 1.5579383e-11 2.6284194e-08 5.5681624e-09 9.9505479e-09 2.3989891e-08],[1.1171142e-09 9.9999917e-01 3.3391028e-09 1.1789801e-10 6.2642016e-08\n",
      " 3.8624663e-08 7.6405463e-08 2.1941089e-10 7.4952555e-07 5.8168292e-10],\t\n",
      "[1.2019802e-10 8.7786257e-11 4.4714935e-12 1.4564123e-05 1.4650581e-12\n",
      " 9.9998498e-01 2.3628252e-07 2.1366478e-10 1.9163322e-07 5.8942469e-09],[5.4631560e-10 3.7301117e-11 4.0989462e-11 6.9536871e-10 3.0163905e-05\n",
      " 3.9589035e-10 9.7998699e-11 8.4158237e-06 1.5148005e-07 9.9996126e-01],[2.0767778e-11 1.8916511e-09 9.8672304e-10 1.6368598e-07 6.6872003e-12\n",
      " 1.6175259e-11 9.7743854e-16 9.9999964e-01 1.8075255e-11 2.9696824e-07],[4.6806585e-05 2.7554592e-05 3.5275088e-04 5.7255954e-01 4.2151646e-06\n",
      " 4.0080610e-01 7.1063201e-04 9.0888880e-06 2.5257716e-02 2.2570921e-04],[2.7088056e-11 3.7615127e-08 1.5705805e-10 1.1041090e-12 1.0000000e+00\n",
      " 3.5757888e-10 5.5383671e-09 2.1826594e-08 8.9664148e-10 3.2218139e-08],\t\n",
      "first 20 images in the test set:\n"
     ]
    },
    {
     "data": {
      "image/png": "[encoded data removed]",
      "text/plain": [
       "<Figure size 640x480 with 20 Axes>"
      ]
     },
     "metadata": {},
     "output_type": "display_data"
    }
   ],
   "source": [
    "#Visualize test set output results.\n",
    "import matplotlib.pyplot as plt\n",
    "%matplotlib inline\n",
    "\n",
    "def res_Visual(n):\n",
    "   final_opt_a=new_model.predict(X_test[0:n])    #Perform predictions on the test set by usingthe model.\n",
    "   classes_x=np.argmax(final_opt_a, axis=1)\n",
    "   fig, ax = plt.subplots(nrows=int(n/5),ncols=5 )\n",
    "   ax = ax.flatten()\n",
    "   print('prediction results of the first {} images:'.format(n))\n",
    "   for i in range(n):\n",
    "         print(final_opt_a[i],end=',')\n",
    "         if int((i+1)%5) ==0:\n",
    "            print('\\t')\n",
    "#Visualize image display\n",
    "         img = X_test[i].reshape((28,28))    #Read each row of data in the format of Ndarry.\n",
    "         plt.axis(\"off\")\n",
    "         ax[i].imshow(img, cmap='Greys', interpolation='nearest')    #Visualization\n",
    "         ax[i].axis(\"off\")\n",
    "   print('first {} images in the test set:'.format(n))\n",
    "res_Visual(20)"
   ]
  },
  {
   "cell_type": "code",
   "execution_count": null,
   "metadata": {},
   "outputs": [],
   "source": []
  }
 ],
 "metadata": {
  "kernelspec": {
   "display_name": "MS20_1",
   "language": "python",
   "name": "python3"
  },
  "language_info": {
   "codemirror_mode": {
    "name": "ipython",
    "version": 3
   },
   "file_extension": ".py",
   "mimetype": "text/x-python",
   "name": "python",
   "nbconvert_exporter": "python",
   "pygments_lexer": "ipython3",
   "version": "3.9.17"
  },
  "orig_nbformat": 4
 },
 "nbformat": 4,
 "nbformat_minor": 2
}
